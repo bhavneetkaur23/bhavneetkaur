{
 "cells": [
  {
   "cell_type": "code",
   "execution_count": 1,
   "id": "eed1e414",
   "metadata": {},
   "outputs": [],
   "source": [
    "import numpy as np\n",
    "import pickle\n",
    "from sklearn.preprocessing import StandardScaler\n",
    "import pandas as pd\n",
    "from sklearn.metrics import accuracy_score, confusion_matrix, precision_score, recall_score, f1_score, roc_auc_score, roc_curve\n"
   ]
  },
  {
   "cell_type": "code",
   "execution_count": 2,
   "id": "ac590443",
   "metadata": {},
   "outputs": [],
   "source": [
    "# Load the pickled lr object\n",
    "with open('log_reg_model.pkl', 'rb') as lr_file:\n",
    "    scaler, lr = pickle.load(lr_file)"
   ]
  },
  {
   "cell_type": "code",
   "execution_count": 3,
   "id": "f5ab9905",
   "metadata": {},
   "outputs": [],
   "source": [
    "# Creating new unknown data for input variables, using numpy. \n",
    "#The variables are in the range of min and max of these variables\n",
    "#generating 154 random values, to match the Test cases \n",
    "\n",
    "\n",
    "\n",
    "unknown_data = {\n",
    "    \n",
    "    'Pregnancies': np.random.randint(1, 17, size=154),\n",
    "    'Glucose': np.random.randint(44, 199, size=154),\n",
    "    'BloodPressure': np.random.randint(24, 122, size=154),\n",
    "    'SkinThickness': np.random.randint(7, 99, size=154),\n",
    "    'Insulin': np.random.randint(18, 846, size=154),\n",
    "    'BMI': np.random.randint(18, 68, size=154),\n",
    "    'DiabetesPedigreeFunction': np.random.randint(0.078, 2.42, size=154),\n",
    "    'Age': np.random.randint(21, 81, size=154)\n",
    "    }\n",
    "\n"
   ]
  },
  {
   "cell_type": "code",
   "execution_count": 4,
   "id": "53a01c7e",
   "metadata": {},
   "outputs": [
    {
     "data": {
      "text/html": [
       "<div>\n",
       "<style scoped>\n",
       "    .dataframe tbody tr th:only-of-type {\n",
       "        vertical-align: middle;\n",
       "    }\n",
       "\n",
       "    .dataframe tbody tr th {\n",
       "        vertical-align: top;\n",
       "    }\n",
       "\n",
       "    .dataframe thead th {\n",
       "        text-align: right;\n",
       "    }\n",
       "</style>\n",
       "<table border=\"1\" class=\"dataframe\">\n",
       "  <thead>\n",
       "    <tr style=\"text-align: right;\">\n",
       "      <th></th>\n",
       "      <th>Pregnancies</th>\n",
       "      <th>Glucose</th>\n",
       "      <th>BloodPressure</th>\n",
       "      <th>SkinThickness</th>\n",
       "      <th>Insulin</th>\n",
       "      <th>BMI</th>\n",
       "      <th>DiabetesPedigreeFunction</th>\n",
       "      <th>Age</th>\n",
       "    </tr>\n",
       "  </thead>\n",
       "  <tbody>\n",
       "    <tr>\n",
       "      <th>count</th>\n",
       "      <td>154.000000</td>\n",
       "      <td>154.000000</td>\n",
       "      <td>154.000000</td>\n",
       "      <td>154.000000</td>\n",
       "      <td>154.000000</td>\n",
       "      <td>154.000000</td>\n",
       "      <td>154.000000</td>\n",
       "      <td>154.000000</td>\n",
       "    </tr>\n",
       "    <tr>\n",
       "      <th>mean</th>\n",
       "      <td>7.461039</td>\n",
       "      <td>116.240260</td>\n",
       "      <td>74.402597</td>\n",
       "      <td>52.428571</td>\n",
       "      <td>446.948052</td>\n",
       "      <td>43.149351</td>\n",
       "      <td>0.474026</td>\n",
       "      <td>50.785714</td>\n",
       "    </tr>\n",
       "    <tr>\n",
       "      <th>std</th>\n",
       "      <td>4.592027</td>\n",
       "      <td>46.746858</td>\n",
       "      <td>27.705623</td>\n",
       "      <td>27.528680</td>\n",
       "      <td>243.124401</td>\n",
       "      <td>14.406236</td>\n",
       "      <td>0.500954</td>\n",
       "      <td>17.443453</td>\n",
       "    </tr>\n",
       "    <tr>\n",
       "      <th>min</th>\n",
       "      <td>1.000000</td>\n",
       "      <td>44.000000</td>\n",
       "      <td>24.000000</td>\n",
       "      <td>7.000000</td>\n",
       "      <td>26.000000</td>\n",
       "      <td>18.000000</td>\n",
       "      <td>0.000000</td>\n",
       "      <td>21.000000</td>\n",
       "    </tr>\n",
       "    <tr>\n",
       "      <th>25%</th>\n",
       "      <td>3.000000</td>\n",
       "      <td>76.000000</td>\n",
       "      <td>49.250000</td>\n",
       "      <td>28.500000</td>\n",
       "      <td>205.500000</td>\n",
       "      <td>31.250000</td>\n",
       "      <td>0.000000</td>\n",
       "      <td>35.000000</td>\n",
       "    </tr>\n",
       "    <tr>\n",
       "      <th>50%</th>\n",
       "      <td>7.500000</td>\n",
       "      <td>111.000000</td>\n",
       "      <td>76.500000</td>\n",
       "      <td>50.000000</td>\n",
       "      <td>487.000000</td>\n",
       "      <td>43.500000</td>\n",
       "      <td>0.000000</td>\n",
       "      <td>50.500000</td>\n",
       "    </tr>\n",
       "    <tr>\n",
       "      <th>75%</th>\n",
       "      <td>11.000000</td>\n",
       "      <td>159.750000</td>\n",
       "      <td>98.000000</td>\n",
       "      <td>75.750000</td>\n",
       "      <td>649.500000</td>\n",
       "      <td>57.000000</td>\n",
       "      <td>1.000000</td>\n",
       "      <td>66.000000</td>\n",
       "    </tr>\n",
       "    <tr>\n",
       "      <th>max</th>\n",
       "      <td>16.000000</td>\n",
       "      <td>198.000000</td>\n",
       "      <td>120.000000</td>\n",
       "      <td>98.000000</td>\n",
       "      <td>839.000000</td>\n",
       "      <td>67.000000</td>\n",
       "      <td>1.000000</td>\n",
       "      <td>80.000000</td>\n",
       "    </tr>\n",
       "  </tbody>\n",
       "</table>\n",
       "</div>"
      ],
      "text/plain": [
       "       Pregnancies     Glucose  BloodPressure  SkinThickness     Insulin   \n",
       "count   154.000000  154.000000     154.000000     154.000000  154.000000  \\\n",
       "mean      7.461039  116.240260      74.402597      52.428571  446.948052   \n",
       "std       4.592027   46.746858      27.705623      27.528680  243.124401   \n",
       "min       1.000000   44.000000      24.000000       7.000000   26.000000   \n",
       "25%       3.000000   76.000000      49.250000      28.500000  205.500000   \n",
       "50%       7.500000  111.000000      76.500000      50.000000  487.000000   \n",
       "75%      11.000000  159.750000      98.000000      75.750000  649.500000   \n",
       "max      16.000000  198.000000     120.000000      98.000000  839.000000   \n",
       "\n",
       "              BMI  DiabetesPedigreeFunction         Age  \n",
       "count  154.000000                154.000000  154.000000  \n",
       "mean    43.149351                  0.474026   50.785714  \n",
       "std     14.406236                  0.500954   17.443453  \n",
       "min     18.000000                  0.000000   21.000000  \n",
       "25%     31.250000                  0.000000   35.000000  \n",
       "50%     43.500000                  0.000000   50.500000  \n",
       "75%     57.000000                  1.000000   66.000000  \n",
       "max     67.000000                  1.000000   80.000000  "
      ]
     },
     "execution_count": 4,
     "metadata": {},
     "output_type": "execute_result"
    }
   ],
   "source": [
    "#converting the dictionar into df\n",
    "unknown_df = pd.DataFrame(unknown_data)\n",
    "unknown_df.describe()"
   ]
  },
  {
   "cell_type": "code",
   "execution_count": 5,
   "id": "e061f3ce",
   "metadata": {},
   "outputs": [],
   "source": [
    "#scaling the data according to similar scaling done in main file \n",
    "\n",
    "# Use the scaler to transform new data\n",
    "new_scaled_data = scaler.transform(unknown_df)"
   ]
  },
  {
   "cell_type": "code",
   "execution_count": 6,
   "id": "86076f9f",
   "metadata": {},
   "outputs": [],
   "source": [
    "# Make predictions using the logistic regression model\n",
    "predictions = lr.predict(new_scaled_data)\n"
   ]
  },
  {
   "cell_type": "code",
   "execution_count": 7,
   "id": "cb166972",
   "metadata": {},
   "outputs": [],
   "source": [
    "#opening the Y_test cases for evaluation of model\n",
    "with open('y_test.pkl', 'rb') as file:\n",
    "    y_test = pickle.load(file)"
   ]
  },
  {
   "cell_type": "code",
   "execution_count": 8,
   "id": "a11b8a04",
   "metadata": {},
   "outputs": [
    {
     "name": "stdout",
     "output_type": "stream",
     "text": [
      "Accuracy: 0.487012987012987\n",
      "Precision: 0.35365853658536583\n",
      "Recall: 0.5272727272727272\n",
      "F1 Score: 0.42335766423357657\n",
      "ROC AUC Score: 0.49595959595959593\n"
     ]
    }
   ],
   "source": [
    "# Evaluate the model\n",
    "accuracy = accuracy_score(y_test, predictions)\n",
    "precision = precision_score(y_test, predictions)\n",
    "recall = recall_score(y_test, predictions)\n",
    "f1 = f1_score(y_test, predictions)\n",
    "roc_auc = roc_auc_score(y_test, predictions)\n",
    "\n",
    "print(\"Accuracy:\", accuracy)\n",
    "print(\"Precision:\", precision)\n",
    "print(\"Recall:\", recall)\n",
    "print(\"F1 Score:\", f1)\n",
    "print(\"ROC AUC Score:\", roc_auc)"
   ]
  },
  {
   "cell_type": "code",
   "execution_count": null,
   "id": "579537fb",
   "metadata": {},
   "outputs": [],
   "source": []
  }
 ],
 "metadata": {
  "kernelspec": {
   "display_name": "Python 3 (ipykernel)",
   "language": "python",
   "name": "python3"
  },
  "language_info": {
   "codemirror_mode": {
    "name": "ipython",
    "version": 3
   },
   "file_extension": ".py",
   "mimetype": "text/x-python",
   "name": "python",
   "nbconvert_exporter": "python",
   "pygments_lexer": "ipython3",
   "version": "3.11.5"
  }
 },
 "nbformat": 4,
 "nbformat_minor": 5
}
